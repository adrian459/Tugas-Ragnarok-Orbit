{
 "cells": [
  {
   "cell_type": "code",
   "execution_count": null,
   "id": "4ca2b0ca",
   "metadata": {},
   "outputs": [],
   "source": [
    "#Python OOP\n",
    "#1. OOP adalah pemrograman yang berorientasi object , misalnya ada sebuah object mobil dia memiliki atribut jumlah pintu,\n",
    "#jumlah tempat duduk dan sebagainya. Lalu mobil tersebut bisa melakukan apa saja?."
   ]
  },
  {
   "cell_type": "code",
   "execution_count": 1,
   "id": "baf49bfa",
   "metadata": {},
   "outputs": [
    {
     "name": "stdout",
     "output_type": "stream",
     "text": [
      "Vehichle Brand :  Mercedes-Benz\n",
      "Brand Type     :  CLA-200 AMG\n",
      "Max Speed      :  460  km/h\n"
     ]
    }
   ],
   "source": [
    "class Car:\n",
    "    def __init__(self, Brand, Type, Max_speed, ):\n",
    "        self.Brand = Brand\n",
    "        self.Type = Type\n",
    "        self.Max_speed = Max_speed \n",
    "    def display_info(self):\n",
    "        print(\"Vehichle Brand : \", self.Brand)\n",
    "        print(\"Brand Type     : \", self.Type)\n",
    "        print(\"Max Speed      : \", self.Max_speed, \" km/h\")\n",
    "c = Car(\"Mercedes-Benz\", \"CLA-200 AMG\", 460)\n",
    "c.display_info()"
   ]
  },
  {
   "cell_type": "code",
   "execution_count": 2,
   "id": "bc145d76",
   "metadata": {},
   "outputs": [
    {
     "name": "stdout",
     "output_type": "stream",
     "text": [
      "Brand Car :  Mercedes-Benz\n"
     ]
    }
   ],
   "source": [
    "#Encapsulation\n",
    "class Car:\n",
    "    def __init__(self, Brand, Type, Max_speed, ):\n",
    "        self.__Brand = Brand\n",
    "        self.__Type = Type\n",
    "        self.__Max_speed = Max_speed \n",
    "    def display_info(self):\n",
    "        print(\"Vehichle Brand : \", self.Brand)\n",
    "        print(\"Brand Type     : \", self.Type)\n",
    "        print(\"Max Speed      : \", self.Max_speed, \" km/h\")\n",
    "    def getBrand(self):\n",
    "        return self.__Brand\n",
    "c = Car(\"Mercedes-Benz\", \"CLA-200 AMG\", 460)\n",
    "print(\"Brand Car : \", c.getBrand())"
   ]
  },
  {
   "cell_type": "code",
   "execution_count": null,
   "id": "a7367b3e",
   "metadata": {},
   "outputs": [],
   "source": [
    "#2. Module yang ada dipython adalah built-in module dan library module"
   ]
  },
  {
   "cell_type": "code",
   "execution_count": 3,
   "id": "0af5800d",
   "metadata": {},
   "outputs": [
    {
     "name": "stdout",
     "output_type": "stream",
     "text": [
      "28.145095132914648\n"
     ]
    }
   ],
   "source": [
    "#3. calculate\n",
    "import math\n",
    "print(math.sqrt(175)+(4*math.sqrt(7))+(1/3)+math.log(81,3))"
   ]
  },
  {
   "cell_type": "code",
   "execution_count": 5,
   "id": "08da8eb7",
   "metadata": {},
   "outputs": [
    {
     "name": "stdout",
     "output_type": "stream",
     "text": [
      "Divison by 0\n"
     ]
    }
   ],
   "source": [
    "#4. Custom exception handling adalah teknik koding agar pada saat ada error runtime program\n",
    "#tidak terhenti\n",
    "a = 1\n",
    "b = 0\n",
    "try :\n",
    "    print(a/b)\n",
    "except:\n",
    "    print(\"Divison by 0\")\n",
    "else:\n",
    "    print(\"Lanjut\")"
   ]
  },
  {
   "cell_type": "code",
   "execution_count": null,
   "id": "9504e94c",
   "metadata": {},
   "outputs": [],
   "source": [
    "#Artificial Intelligence\n",
    "#1. Structured data atau data terstruktur adalah data yang mudah dibaca dan dipahami oleh komputer seperti data tabular\n",
    "#excel, data sql. Sedangkan data tidak terstruktur adalah data yang tidak mudah dibaca oleh komputer harus dikonversi ke angka\n",
    "#seperti gambar, video, dan suara. Sumber data dapat berasal dari sensor seperi dht-11, kamera, kaggle, dan data percakapan\n",
    "#menggunakan bahasa asing untuk natural language processing.\n",
    "\n",
    "#2.Deep learning merupakan cabang ilmu bagian dari meachine learning , sedangkan meachine learning adalah cabang ilmu bagian \n",
    "#dari artificial intelligence . Artificial intelligence adalah super set dari meachine learning dan deep learning.\n",
    "\n",
    "#3.Meachine learning kita memasukan data dan result lalu menghasilkan rules. Sedangkan traditional software kita memasukan data\n",
    "# dan rules lalu menghasilkan result\n",
    "\n",
    "#4.-Image recognition, plant classification with KNN, stock prediction\n"
   ]
  },
  {
   "cell_type": "code",
   "execution_count": null,
   "id": "c765ba7d",
   "metadata": {},
   "outputs": [],
   "source": [
    "#Math for AI\n",
    "#1. Dikarenakan ilmu matematika seperti aljabar linier terdapat pengaplikasian nyata , contoh didalam aljabar linier\n",
    "#terdapat yang namanya eigen value , eigen value ini merupakan nilai yang unik dan meskipun ditransformasikan tidak akan \n",
    "#berpengaruh sehingga hal tersebut dapat digunakan untuk image classification dan recognition\n",
    "\n",
    "#2.Vektor adalah sebuah matrix yang berdimensi 1xn, sedangkan skalar adalah sebuah konstanta yang biasanya dikalikan \n",
    "#terhadap vektor untuk menghasilkan nilai baru\n",
    "\n",
    "#3. Jarak Manhattan antara dua titik adalah jumlah dari panjang ruas garis kedua titik tersebut terhadap tiap sumbu \n",
    "# dalam koordinat Kartesius. , jarak Euklides atau metrik Euklides adalah jarak garis lurus \"biasa\" antara dua \n",
    "#titik dalam ruang Euklides. Beda nya eucledian di kuadrat lalu di akar, sedangkan manhattan di mutlakan nilainya\n",
    "\n",
    "#4.Dalam image classification komputer tidak dapat membaca gambar sehingga gambar tersebut di ubah kedalam bentuk matrix\n",
    "#dengan setiap elemenya merepresentasikan 1 pixel yang memilki rentang nilai warna antara 0 - 255"
   ]
  },
  {
   "cell_type": "code",
   "execution_count": null,
   "id": "cb45be74",
   "metadata": {},
   "outputs": [],
   "source": [
    "#Meachine learning \n",
    "#1. Supervised learning adalah meachine learning yang mempelajari data yang berlabel dan memiliki target\n",
    "# sedangkan unsupervised learning adalah meachine learning yang mempelajari pola data tanpa adanya target data.\n",
    "\n",
    "#2. Gathering data - Data prearation - Analyse data - train model - test model - evaluate - deployment\n",
    "#Gathering data adalah proses pengambilan data atau akuisisi data.\n",
    "#Data preparation adalah proses mempersiapkan data dengan menghilangkan noisy pada data yang diakibatkan oleh kesalahan acak\n",
    "#Analyse data adalah proses menganalisis data, contoh apakah data tersebut berdistribusi normal atau tidak\n",
    "#Train Model adalah membuat model berdasarkan data yang telah di analisis lalu dijalankan\n",
    "#Test model adalah melihat hasil dari Train model\n",
    "#Evaluate adalah proses untuk menentukan apakah program siap di deployment atau belum dengan mempertimbangkan akurasi \n",
    "#dan preisi sebuah data, dan mencoba kembali jika terdapat anomali maupun kesalahan\n",
    "#deployment adalah menerbitkan project yang telah selesai\n",
    "\n",
    "#3.Analisis regresi dalam statistika adalah salah satu metode untuk menentukan hubungan sebab-akibat antara satu variabel\n",
    "#dengan variabel yang lain. Variabel \"penyebab\" disebut dengan bermacam-macam istilah: variabel penjelas, variabel eksplanatorik\n",
    "#variabel independen, atau secara bebas, variabel X.\n",
    "#Analisis kelompok adalah suatu teknik yang dapat digunakan untuk mengenali kelompok-kelompok yang dihasilkan dari pengelompokkan unsur-unsur yang lebih kecil\n",
    "#berdasarkan adanya kemiripan satu sama lain\n",
    "\n",
    "#4.Algoritma Artificial Neural Network (ANN) merupakan model penalaran yang didasarkan pada otak manusia. ANN terdiri dari sejumlah prosesor sangat sederhana dan saling berhubungan yang disebut neuron. Neuron yang terhubung dengan pembobotan (weight) \n",
    "#melewatisinyal dari neuron satu ke neuron yang lain. Fungsinya dapat digunakan untuk klastering sebuah data."
   ]
  }
 ],
 "metadata": {
  "kernelspec": {
   "display_name": "Python 3 (ipykernel)",
   "language": "python",
   "name": "python3"
  },
  "language_info": {
   "codemirror_mode": {
    "name": "ipython",
    "version": 3
   },
   "file_extension": ".py",
   "mimetype": "text/x-python",
   "name": "python",
   "nbconvert_exporter": "python",
   "pygments_lexer": "ipython3",
   "version": "3.9.7"
  }
 },
 "nbformat": 4,
 "nbformat_minor": 5
}
