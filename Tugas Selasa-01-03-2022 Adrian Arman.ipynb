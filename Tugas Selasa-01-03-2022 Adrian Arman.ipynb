{
 "cells": [
  {
   "cell_type": "code",
   "execution_count": null,
   "id": "56d03bcc",
   "metadata": {},
   "outputs": [],
   "source": [
    "#Author Adrian Arman"
   ]
  },
  {
   "cell_type": "code",
   "execution_count": 1,
   "id": "03f0691a",
   "metadata": {},
   "outputs": [
    {
     "name": "stdout",
     "output_type": "stream",
     "text": [
      "Hello worlds!\n"
     ]
    }
   ],
   "source": [
    "print(\"Hello worlds!\")"
   ]
  },
  {
   "cell_type": "code",
   "execution_count": 1,
   "id": "4148d52e",
   "metadata": {},
   "outputs": [
    {
     "data": {
      "text/html": [
       "\n",
       "        <iframe\n",
       "            width=\"800\"\n",
       "            height=\"600\"\n",
       "            src=\"https://orbitfutureacademy.id\"\n",
       "            frameborder=\"0\"\n",
       "            allowfullscreen\n",
       "            \n",
       "        ></iframe>\n",
       "        "
      ],
      "text/plain": [
       "<IPython.lib.display.IFrame at 0x1f7c9753cd0>"
      ]
     },
     "execution_count": 1,
     "metadata": {},
     "output_type": "execute_result"
    }
   ],
   "source": [
    "from IPython.display import IFrame\n",
    "url = 'https://orbitfutureacademy.id'\n",
    "IFrame(url, width=800, height=600)"
   ]
  },
  {
   "cell_type": "markdown",
   "id": "ee271d6a",
   "metadata": {},
   "source": [
    "# Morgentliche Sitzung 8-11AM"
   ]
  },
  {
   "cell_type": "code",
   "execution_count": 3,
   "id": "559a3661",
   "metadata": {},
   "outputs": [
    {
     "name": "stdout",
     "output_type": "stream",
     "text": [
      "<class 'str'>\n",
      "a\n",
      "Namaste Worl\n",
      "aat\n",
      "eWr\n",
      "aat o\n"
     ]
    }
   ],
   "source": [
    "s = \"Namaste World\"\n",
    "print(type(s))\n",
    "print(s[1])\n",
    "print(s[:-1])\n",
    "print(s[1:7:2]) #[1 - 7 dengan lompat 2 character]\n",
    "print(s[-7:-2:2])\n",
    "print(s[1:-2:2])"
   ]
  },
  {
   "cell_type": "code",
   "execution_count": 15,
   "id": "0965945d",
   "metadata": {},
   "outputs": [
    {
     "name": "stdout",
     "output_type": "stream",
     "text": [
      "Hello World\n",
      "Hello  World\n",
      "Hello WorldWorld\n",
      "True\n"
     ]
    }
   ],
   "source": [
    "s1 = \"Hello\"; s2 = \"World\"\n",
    "print(s1+\" \"+s2)\n",
    "print(s1,\"\",s2)\n",
    "print(s1[:5]+\" \"+s2[0:5]*2)\n",
    "print(\"ll\" in s1)"
   ]
  },
  {
   "cell_type": "code",
   "execution_count": 18,
   "id": "2fdbddfb",
   "metadata": {},
   "outputs": [
    {
     "name": "stdout",
     "output_type": "stream",
     "text": [
      "ADRIAN ARMAN\n",
      "adrian arman\n"
     ]
    }
   ],
   "source": [
    "x = \"adrian arman\"\n",
    "print(x.upper())\n",
    "print(x.lower())"
   ]
  },
  {
   "cell_type": "code",
   "execution_count": 19,
   "id": "7caf24a6",
   "metadata": {},
   "outputs": [
    {
     "name": "stdout",
     "output_type": "stream",
     "text": [
      "My name is Adrian, I 20 years old\n",
      "My name is Adrian, I 20 years old\n"
     ]
    }
   ],
   "source": [
    "a = \"Adrian\"\n",
    "b = 20\n",
    "print(\"My name is %s, I %s years old\" %(a,b))\n",
    "print(\"My name is {}, I {} years old\".format(a,b))"
   ]
  },
  {
   "cell_type": "markdown",
   "id": "2ee7ec8e",
   "metadata": {},
   "source": [
    "# Nachmittagssitzung 1-3PM"
   ]
  },
  {
   "cell_type": "code",
   "execution_count": 28,
   "id": "451009a0",
   "metadata": {},
   "outputs": [
    {
     "name": "stdout",
     "output_type": "stream",
     "text": [
      "2\n",
      "-0.04497986221937569 --> <class 'float'> --> 0\n"
     ]
    }
   ],
   "source": [
    "print(2%100) #Modulo\n",
    "import math as m\n",
    "A = m.cos(90)**3/2\n",
    "print(A, \"-->\", type(A), \"-->\", int(A))"
   ]
  },
  {
   "cell_type": "code",
   "execution_count": 56,
   "id": "2adafdb5",
   "metadata": {},
   "outputs": [
    {
     "name": "stdout",
     "output_type": "stream",
     "text": [
      "[1, 2, 3, 4, 'Yanto', True, 'Jhondoe']\n",
      "1   [2, 3, 4, 'Yanto', True, 'Jhondoe']   [3, 'Yanto']   YANTO\n",
      "(1+2.626609944088649j)\n",
      "[1, 2, 3, 4, 'Yanto', True, 'Jhondoe', 'Sir William Armand']\n",
      "[1, 2, 4, 'Yanto', True, 'Jhondoe', 'Sir William Armand']\n"
     ]
    }
   ],
   "source": [
    "#List \n",
    "L = [1,2,3,4,\"Yanto\",True, \"Jhondoe\"]\n",
    "print(L)\n",
    "print(L[0], \" \", L[1:], \" \", L[-5:-1:2], \" \", L[4].upper())\n",
    "print((len(L)**3)%4/3+5j * m.cos(45))\n",
    "L.append(\"Sir William Armand\")\n",
    "print(L)\n",
    "L.remove(3)\n",
    "print(L)"
   ]
  },
  {
   "cell_type": "code",
   "execution_count": 60,
   "id": "552b49e5",
   "metadata": {},
   "outputs": [
    {
     "name": "stdout",
     "output_type": "stream",
     "text": [
      "[1, 2, 4, 'Yanto', True, 'Jhondoe', 'Sir William Armand', 'Baizal', False, 'Mamat', 1.2577193354595834e+30, 'Baizal', False, 'Mamat', 1257719335459583439894665494528]\n"
     ]
    }
   ],
   "source": [
    "J = [\"Baizal\", False, \"Mamat\", int(m.sinh(70))]\n",
    "L.extend(J)\n",
    "print(L)"
   ]
  },
  {
   "cell_type": "code",
   "execution_count": 61,
   "id": "8ef15833",
   "metadata": {},
   "outputs": [
    {
     "name": "stdout",
     "output_type": "stream",
     "text": [
      "['Baizal', False, 'Hans Landa', 'Mamat', 1257719335459583439894665494528]\n"
     ]
    }
   ],
   "source": [
    "J.insert(2, \"Hans Landa\")\n",
    "print(J)"
   ]
  },
  {
   "cell_type": "code",
   "execution_count": 68,
   "id": "f0126ee2",
   "metadata": {},
   "outputs": [
    {
     "name": "stdout",
     "output_type": "stream",
     "text": [
      "{'Prime': [2, 3, 5, 7, 11], 'int': [1, 2, 3, 4], 'Float': [548.3170351552121, 1.2577193354595834e+30], 'x': 9}\n"
     ]
    }
   ],
   "source": [
    "#Dictionary\n",
    "dict = {\"Prime\":[2,3,5,7,11], \"int\":[1,2,3,4], \"Float\":[m.cosh(7),m.sinh(70)], \"x\":7.7}\n",
    "dict['x'] = 9\n",
    "print(dict)"
   ]
  },
  {
   "cell_type": "code",
   "execution_count": 81,
   "id": "e7c6998b",
   "metadata": {},
   "outputs": [
    {
     "name": "stdout",
     "output_type": "stream",
     "text": [
      "{1, 2, 3, 4, 'Armand', 9, 10}\n"
     ]
    }
   ],
   "source": [
    "#Set\n",
    "Set = {1,1,2,3,4,4,4,9,\"Armand\"}\n",
    "Set.add(10)\n",
    "print(Set)"
   ]
  },
  {
   "cell_type": "code",
   "execution_count": 85,
   "id": "71077eee",
   "metadata": {},
   "outputs": [
    {
     "name": "stdout",
     "output_type": "stream",
     "text": [
      "(1, 2, 3, (6+5j), 9.99, 1.2279542653394917, 'Bicycle')\n",
      "1\n",
      "2\n",
      "3\n",
      "(6+5j)\n",
      "9.99\n",
      "1.2279542653394917\n",
      "Bicycle\n"
     ]
    }
   ],
   "source": [
    "#Tuple\n",
    "T = (1,2,3,5j+6,9.99,m.cosh(6.63*10**-1),\"Bicycle\")\n",
    "print(T)\n",
    "z = 0\n",
    "for i in range(7):\n",
    "    print(T[z])\n",
    "    z += 1"
   ]
  },
  {
   "cell_type": "code",
   "execution_count": 5,
   "id": "69df8b28",
   "metadata": {},
   "outputs": [
    {
     "name": "stdout",
     "output_type": "stream",
     "text": [
      "False\n",
      "True\n"
     ]
    }
   ],
   "source": [
    "#is not , is operator pembanding berdasarkan object yang di create di memory\n",
    "a = [1,2]\n",
    "b = [1,2]\n",
    "print(a is b)\n",
    "print(a is not b)"
   ]
  },
  {
   "cell_type": "code",
   "execution_count": 6,
   "id": "52296dcf",
   "metadata": {},
   "outputs": [
    {
     "name": "stdout",
     "output_type": "stream",
     "text": [
      "True\n"
     ]
    }
   ],
   "source": [
    "a = b\n",
    "print(a is b)"
   ]
  },
  {
   "cell_type": "code",
   "execution_count": 7,
   "id": "d892586b",
   "metadata": {},
   "outputs": [
    {
     "name": "stdout",
     "output_type": "stream",
     "text": [
      "Masukan nama : Yanto\n",
      "True\n"
     ]
    }
   ],
   "source": [
    "#Input\n",
    "x = input(\"Masukan nama : \")\n",
    "if x == \"Yanto\":\n",
    "    print(True)\n",
    "else :\n",
    "    print(False)"
   ]
  },
  {
   "cell_type": "code",
   "execution_count": 18,
   "id": "6c7148cc",
   "metadata": {},
   "outputs": [
    {
     "name": "stdout",
     "output_type": "stream",
     "text": [
      "1\n",
      "2\n",
      "3\n",
      "5\n",
      "6\n",
      "------------\n",
      "1\n",
      "2\n",
      "3\n",
      "5\n",
      "6\n",
      "3\n",
      "5\n",
      "------------\n",
      "1\n",
      "2\n",
      "3\n",
      "5\n",
      "6\n",
      "3\n",
      "5\n"
     ]
    }
   ],
   "source": [
    "L = [1,2,3,5,6,44,3,5]\n",
    "for i in L:\n",
    "    if(i == 44):\n",
    "        break #Stop, next elemen will not printed\n",
    "    else :\n",
    "        print(i)\n",
    "print('------------')\n",
    "for i in L:\n",
    "    if(i == 44):\n",
    "        continue #Stop, when the variable are same but next elemen will printed\n",
    "    else :\n",
    "        print(i)\n",
    "print('------------')\n",
    "for i in L:\n",
    "    if(i == 44):\n",
    "        pass #Like a continue but nothing to do\n",
    "    else :\n",
    "        print(i)"
   ]
  },
  {
   "cell_type": "code",
   "execution_count": 19,
   "id": "126e6ec9",
   "metadata": {},
   "outputs": [
    {
     "data": {
      "text/plain": [
       "[4, 9, 16, 25, 36, 36]"
      ]
     },
     "execution_count": 19,
     "metadata": {},
     "output_type": "execute_result"
    }
   ],
   "source": [
    "#Comperhension make list with simplicity\n",
    "L = [2,3,4,5,6,6]\n",
    "new_list = [ele**2 for ele in L]\n",
    "new_list"
   ]
  },
  {
   "cell_type": "code",
   "execution_count": 20,
   "id": "0e7d82f2",
   "metadata": {},
   "outputs": [
    {
     "data": {
      "text/plain": [
       "[4, 9, 16, 25, 36, 36]"
      ]
     },
     "execution_count": 20,
     "metadata": {},
     "output_type": "execute_result"
    }
   ],
   "source": [
    "L = [2,3,4,5,6,6]\n",
    "x = []\n",
    "for i in L:\n",
    "    x.append(i ** 2)\n",
    "x"
   ]
  },
  {
   "cell_type": "code",
   "execution_count": 25,
   "id": "bd63b952",
   "metadata": {},
   "outputs": [
    {
     "data": {
      "text/plain": [
       "dict_items([('A', 20), ('B', 40), ('C', 40.888000000000005)])"
      ]
     },
     "execution_count": 25,
     "metadata": {},
     "output_type": "execute_result"
    }
   ],
   "source": [
    "#Comperhension Dictionary\n",
    "dict = {\"A\":10, \"B\": 30, \"C\":30.888}\n",
    "new_dict = {key:value+10 for (key,value) in dict.items()}\n",
    "new_dict.items()"
   ]
  },
  {
   "cell_type": "code",
   "execution_count": 28,
   "id": "b7e6fd6f",
   "metadata": {},
   "outputs": [
    {
     "data": {
      "text/plain": [
       "dict_keys(['A', 'B', 'C'])"
      ]
     },
     "execution_count": 28,
     "metadata": {},
     "output_type": "execute_result"
    }
   ],
   "source": [
    "new_dict.values()"
   ]
  },
  {
   "cell_type": "code",
   "execution_count": 31,
   "id": "d908ccd8",
   "metadata": {},
   "outputs": [
    {
     "name": "stdout",
     "output_type": "stream",
     "text": [
      "('A', 10)\n",
      "('B', 30)\n",
      "('C', 30.888)\n",
      "---------\n",
      "A 10\n",
      "B 30\n",
      "C 30.888\n"
     ]
    }
   ],
   "source": [
    "for i in dict.items():\n",
    "    print(i)\n",
    "print('---------')\n",
    "for (key,value) in dict.items():\n",
    "    print(key,value)"
   ]
  },
  {
   "cell_type": "code",
   "execution_count": null,
   "id": "010fe2cb",
   "metadata": {},
   "outputs": [],
   "source": []
  }
 ],
 "metadata": {
  "kernelspec": {
   "display_name": "Python 3 (ipykernel)",
   "language": "python",
   "name": "python3"
  },
  "language_info": {
   "codemirror_mode": {
    "name": "ipython",
    "version": 3
   },
   "file_extension": ".py",
   "mimetype": "text/x-python",
   "name": "python",
   "nbconvert_exporter": "python",
   "pygments_lexer": "ipython3",
   "version": "3.9.7"
  }
 },
 "nbformat": 4,
 "nbformat_minor": 5
}
