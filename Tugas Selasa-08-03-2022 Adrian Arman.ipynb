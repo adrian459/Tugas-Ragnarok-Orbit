{
 "cells": [
  {
   "cell_type": "code",
   "execution_count": 1,
   "id": "dd9bd0b5",
   "metadata": {},
   "outputs": [],
   "source": [
    "#Math with Numpy\n",
    "import numpy as np"
   ]
  },
  {
   "cell_type": "markdown",
   "id": "9b5a0fc7",
   "metadata": {},
   "source": [
    "## Latihan-2 (2D array)\n"
   ]
  },
  {
   "cell_type": "code",
   "execution_count": 125,
   "id": "439ea966",
   "metadata": {},
   "outputs": [
    {
     "name": "stdout",
     "output_type": "stream",
     "text": [
      "[[1 2 3]\n",
      " [4 5 6]\n",
      " [7 8 9]] \n",
      "\n",
      "banyaknya entry =  9\n",
      "dimensi array =  2\n",
      "ukuran array =  (3, 3) \n",
      "\n"
     ]
    }
   ],
   "source": [
    "A = np.array([[1, 2, 3], [4, 5, 6], [7, 8, 9]])\n",
    "print(A, \"\\n\")\n",
    "#Lengkapi kodingan berikut\n",
    "print('banyaknya entry = ', A.size)\n",
    "print('dimensi array = ', A.ndim)\n",
    "print('ukuran array = ', A.shape, \"\\n\")"
   ]
  },
  {
   "cell_type": "markdown",
   "id": "397cdb62",
   "metadata": {},
   "source": [
    "## Latihan-3 (Slicing)"
   ]
  },
  {
   "cell_type": "code",
   "execution_count": 124,
   "id": "a274c122",
   "metadata": {},
   "outputs": [
    {
     "name": "stdout",
     "output_type": "stream",
     "text": [
      "baris ke-3 = \n",
      " [7 8 9]\n",
      "entry ke-1 & 2 baris ke-3 =  [7 8]\n",
      "entry ke-2 & 3 kolom ke-3 = \n",
      " [[6]\n",
      " [9]]\n"
     ]
    }
   ],
   "source": [
    "#Lengkapi kodingan berikut\n",
    "print('baris ke-3 = \\n', A[2])\n",
    "print('entry ke-1 & 2 baris ke-3 = ', A[2][0:2])\n",
    "print('entry ke-2 & 3 kolom ke-3 = \\n', A[1:3,2:]) #Baris 1-2 kolom >= 2"
   ]
  },
  {
   "cell_type": "markdown",
   "id": "c912d849",
   "metadata": {},
   "source": [
    "## Latihan-4 (Operasi matriks)"
   ]
  },
  {
   "cell_type": "code",
   "execution_count": 132,
   "id": "6f5feb3b",
   "metadata": {},
   "outputs": [
    {
     "name": "stdout",
     "output_type": "stream",
     "text": [
      "2xA : \n",
      " [[ 2  4]\n",
      " [14 16]]\n",
      "2+A : \n",
      " [[ 3  4]\n",
      " [ 9 10]]\n",
      "A+B : \n",
      " [[ 4  7]\n",
      " [ 8 14]]\n",
      "A-B : \n",
      " [[-2 -3]\n",
      " [ 6  2]]\n",
      "det(A) :  -6.0\n"
     ]
    }
   ],
   "source": [
    "A = np.array([[1, 2], [7,8]])\n",
    "B = np.array([[3, 5], [1,6]])\n",
    "# 2*A \n",
    "print(\"2xA : \\n\", 2*A)\n",
    "# 2+A\n",
    "print(\"2+A : \\n\", 2+A)\n",
    "# A+B\n",
    "print(\"A+B : \\n\", A+B)\n",
    "# A-B\n",
    "print(\"A-B : \\n\", A-B)\n",
    "# det(A)\n",
    "print(\"det(A) : \", np.linalg.det(A))"
   ]
  },
  {
   "cell_type": "code",
   "execution_count": 142,
   "id": "84e9d6b4",
   "metadata": {},
   "outputs": [
    {
     "name": "stdout",
     "output_type": "stream",
     "text": [
      "D :\n",
      " [[ 0.46153846 -0.38461538]\n",
      " [-0.07692308  0.23076923]] \n",
      "\n",
      "D^T : \n",
      " [[ 0.46153846 -0.07692308]\n",
      " [-0.38461538  0.23076923]] \n",
      "\n",
      "Eigen Value A : [-0.62347538  9.62347538]\n",
      "Eigen Vector A:\n",
      " [[-0.77640358 -0.22592838]\n",
      " [ 0.63023605 -0.97414391]] \n",
      "\n",
      "Eigen Value B : [1.8074176 7.1925824]\n",
      "Eigen Vector B:\n",
      " [[-0.97271381 -0.76626443]\n",
      " [ 0.23200828 -0.64252535]]\n"
     ]
    }
   ],
   "source": [
    "#invers dari B, simpan jadi matriks D\n",
    "D = np.linalg.inv(B)\n",
    "print(\"D :\\n\",D, \"\\n\")\n",
    "#transpose D\n",
    "print(\"D^T : \\n\", D.transpose(), \"\\n\")\n",
    "#nilai eigen dan vektor eigen dari A dan B\n",
    "print(\"Eigen Value A :\", np.linalg.eig(A)[0])\n",
    "print(\"Eigen Vector A:\\n\", np.linalg.eig(A)[1],\"\\n\")\n",
    "print(\"Eigen Value B :\", np.linalg.eig(B)[0])\n",
    "print(\"Eigen Vector B:\\n\", np.linalg.eig(B)[1])"
   ]
  },
  {
   "cell_type": "code",
   "execution_count": 144,
   "id": "d82d4d92",
   "metadata": {},
   "outputs": [
    {
     "name": "stdout",
     "output_type": "stream",
     "text": [
      "BxD : \n",
      " [[ 1.38461538 -1.92307692]\n",
      " [-0.07692308  1.38461538]]\n",
      "BxD : \n",
      " [[1.00000000e+00 0.00000000e+00]\n",
      " [5.55111512e-17 1.00000000e+00]]\n"
     ]
    }
   ],
   "source": [
    "#Apa perbedaan dari B*D (perkalian antar entry di B dan D) dan BD (perkalian matriks B dan D)?\n",
    "print(\"BxD : \\n\",B*D)\n",
    "print(\"BxD : \\n\",np.matmul(B,D))\n",
    "#Metode perkalian nya beda , untuk yg pertama elemen x elemen, metode ke-2 baris x kolom"
   ]
  },
  {
   "cell_type": "markdown",
   "id": "61149c69",
   "metadata": {},
   "source": [
    "## Not Task, Only My Manuscript Journal"
   ]
  },
  {
   "cell_type": "code",
   "execution_count": 20,
   "id": "bf540189",
   "metadata": {},
   "outputs": [
    {
     "name": "stdout",
     "output_type": "stream",
     "text": [
      "Total :  12 Dimension :  2 Shape :  (3, 4)\n",
      "[[1 2 3 4]\n",
      " [1 2 3 5]\n",
      " [4 5 6 7]]\n"
     ]
    }
   ],
   "source": [
    "#Array Introduction \n",
    "#2D Array \n",
    "a = np.array([[1,2,3,4], [1,2,3,5], [4,5,6,7]])\n",
    "print(\"Total : \", a.size, \"Dimension : \", a.ndim, \"Shape : \", a.shape)\n",
    "print(a) #a.shape (row, column)"
   ]
  },
  {
   "cell_type": "code",
   "execution_count": 69,
   "id": "256a54e6",
   "metadata": {},
   "outputs": [
    {
     "name": "stdout",
     "output_type": "stream",
     "text": [
      "[2 3 4] \n",
      "\n",
      "[[1]\n",
      " [4]] \n",
      "\n"
     ]
    }
   ],
   "source": [
    "print(a[0][1:],\"\\n\") #row 0 column >= 1\n",
    "print(a[1:,:1],\"\\n\") #same notation column and row"
   ]
  },
  {
   "cell_type": "code",
   "execution_count": 42,
   "id": "f5eae4ab",
   "metadata": {},
   "outputs": [
    {
     "name": "stdout",
     "output_type": "stream",
     "text": [
      "[[1 2 3]\n",
      " [4 5 6]\n",
      " [7 8 9]]\n",
      "B x B  : \n",
      " [[ 1  4  9]\n",
      " [16 25 36]\n",
      " [49 64 81]]\n",
      "B x B  : \n",
      " [[ 30  36  42]\n",
      " [ 66  81  96]\n",
      " [102 126 150]]\n",
      "const.B: \n",
      " [[ 2.2  4.4  6.6]\n",
      " [ 8.8 11.  13.2]\n",
      " [15.4 17.6 19.8]]\n"
     ]
    }
   ],
   "source": [
    "#Normal Multiplication Elemen x Elemen\n",
    "b = np.array([[1,2,3], [4,5,6], [7,8,9]])\n",
    "print(b)\n",
    "print(\"B x B  : \\n\", b*b)\n",
    "#Matrix Multiplication Row x Column \n",
    "print(\"B x B  : \\n\", np.matmul(b,b))\n",
    "#Scalar Matrix Multiplication\n",
    "print(\"const.B: \\n\", 2.2 * b)"
   ]
  },
  {
   "cell_type": "code",
   "execution_count": 45,
   "id": "d1ca2a39",
   "metadata": {},
   "outputs": [
    {
     "name": "stdout",
     "output_type": "stream",
     "text": [
      "det(b) :  6.66133814775094e-16\n"
     ]
    }
   ],
   "source": [
    "#Matrix Determinan det(b)\n",
    "print(\"det(b) : \", np.linalg.det(b))"
   ]
  },
  {
   "cell_type": "code",
   "execution_count": 59,
   "id": "a7465ad5",
   "metadata": {},
   "outputs": [
    {
     "name": "stdout",
     "output_type": "stream",
     "text": [
      "Eigen Value and Eigen Vector b : \n",
      " (array([ 1.61168440e+01, -1.11684397e+00, -4.22209278e-16]), array([[-0.23197069, -0.78583024,  0.40824829],\n",
      "       [-0.52532209, -0.08675134, -0.81649658],\n",
      "       [-0.8186735 ,  0.61232756,  0.40824829]])) \n",
      "\n",
      "Eigen Value b :  [ 1.61168440e+01 -1.11684397e+00 -4.22209278e-16] \n",
      "\n",
      "Eigen Vector b:  [[-0.23197069 -0.78583024  0.40824829]\n",
      " [-0.52532209 -0.08675134 -0.81649658]\n",
      " [-0.8186735   0.61232756  0.40824829]]\n"
     ]
    }
   ],
   "source": [
    "#Matrix Eigen Vector \n",
    "print(\"Eigen Value and Eigen Vector b : \\n\", np.linalg.eig(b), \"\\n\")\n",
    "print(\"Eigen Value b : \", np.linalg.eig(b)[0], \"\\n\")\n",
    "print(\"Eigen Vector b: \", np.linalg.eig(b)[1])"
   ]
  },
  {
   "cell_type": "code",
   "execution_count": 60,
   "id": "013d837a",
   "metadata": {},
   "outputs": [
    {
     "name": "stdout",
     "output_type": "stream",
     "text": [
      "b^-1 :  [[-4.50359963e+15  9.00719925e+15 -4.50359963e+15]\n",
      " [ 9.00719925e+15 -1.80143985e+16  9.00719925e+15]\n",
      " [-4.50359963e+15  9.00719925e+15 -4.50359963e+15]]\n"
     ]
    }
   ],
   "source": [
    "#Inverse Matrix \n",
    "print(\"b^-1 : \", np.linalg.inv(b))"
   ]
  }
 ],
 "metadata": {
  "kernelspec": {
   "display_name": "Python 3 (ipykernel)",
   "language": "python",
   "name": "python3"
  },
  "language_info": {
   "codemirror_mode": {
    "name": "ipython",
    "version": 3
   },
   "file_extension": ".py",
   "mimetype": "text/x-python",
   "name": "python",
   "nbconvert_exporter": "python",
   "pygments_lexer": "ipython3",
   "version": "3.9.7"
  }
 },
 "nbformat": 4,
 "nbformat_minor": 5
}
