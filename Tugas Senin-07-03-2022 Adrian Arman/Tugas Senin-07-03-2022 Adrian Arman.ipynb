{
 "cells": [
  {
   "cell_type": "markdown",
   "id": "c030f986",
   "metadata": {},
   "source": [
    "## Activity OOP\n",
    "### Buatlah 3 OOP beserta turunannya dari objek sekitar, buat ulang seperti yang diatas (encapsulation, abstaction, inheritance, polymorphism)"
   ]
  },
  {
   "cell_type": "code",
   "execution_count": 2,
   "id": "e87dc440",
   "metadata": {},
   "outputs": [],
   "source": [
    "import File_Function as ff #import file "
   ]
  },
  {
   "cell_type": "code",
   "execution_count": 4,
   "id": "33fddb24",
   "metadata": {},
   "outputs": [
    {
     "name": "stdout",
     "output_type": "stream",
     "text": [
      "adrian.arman02@gmail.com\n",
      "Yanto123\n",
      "None\n",
      "Balance :  2000 $\n"
     ]
    }
   ],
   "source": [
    "#Encapsulation\n",
    "        \n",
    "E = ff.Email(\"adrian.arman02@gmail.com\", \"Yanto123\")\n",
    "print(E.username)\n",
    "print(E.getPassword())\n",
    "\n",
    "Bank = ff.Savings(1000000)\n",
    "C = ff.Check_Balance(2000)\n",
    "C.DisplayDetail()\n",
    "\n",
    "\n",
    "    \n"
   ]
  },
  {
   "cell_type": "code",
   "execution_count": 5,
   "id": "79250064",
   "metadata": {},
   "outputs": [
    {
     "name": "stdout",
     "output_type": "stream",
     "text": [
      "Vehichle Brand :  Mercedez-Benz\n",
      "Brand Type     :  -\n",
      "Max Speed      :  0  km/h\n",
      "Length         :  0 Meter\n",
      "Width          :  0 Meter\n",
      "\n",
      "Vehichle Brand :  Mercedez-Benz\n",
      "Brand Type     :  AMG CLA-200\n",
      "Max Speed      :  300  km/h\n",
      "Length         :  20 Meter\n",
      "Width          :  10 Meter\n",
      "\n",
      "Vehichle Brand :  Mercedez-Benz\n",
      "Brand Type     :  S-CLASS\n",
      "Max Speed      :  360  km/h\n",
      "Length         :  20 Meter\n",
      "Width          :  10 Meter\n"
     ]
    }
   ],
   "source": [
    "#Inheritance \n",
    "\n",
    "M = ff.Mercedez_Benz(\"Mercedez-Benz\")\n",
    "M.display_info()\n",
    "print()\n",
    "M1 = ff.Mercy_CLA(M.Brand, \"AMG CLA-200\", 300, 20, 10)\n",
    "M1.display_info()\n",
    "print()\n",
    "M2 = ff.Mercy_CLS(M.Brand, \"S-CLASS\", 360, 20, 10)\n",
    "M2.display_info()\n"
   ]
  },
  {
   "cell_type": "code",
   "execution_count": 6,
   "id": "10ad47cb",
   "metadata": {},
   "outputs": [
    {
     "name": "stdout",
     "output_type": "stream",
     "text": [
      "Dec :  44 -->  Bin :  101100\n",
      "Dec :  44 -->  Oct :  54\n",
      "Dec :  44 -->  Hex :  0x2c\n"
     ]
    }
   ],
   "source": [
    "#Abstraction\n",
    "\n",
    "Dec1 = ff.Dec_Bin(44)\n",
    "Dec1.calculate()\n",
    "Dec2 = ff.Dec_Oct(44)\n",
    "Dec2.calculate()\n",
    "Dec3 = ff.Dec_Hex(44)\n",
    "Dec3.calculate()"
   ]
  },
  {
   "cell_type": "code",
   "execution_count": 7,
   "id": "df5e7fbe",
   "metadata": {},
   "outputs": [
    {
     "name": "stdout",
     "output_type": "stream",
     "text": [
      "Default\n",
      "Aircraft Name :  Default\n",
      "Tail Height   :  0 Meter\n",
      "Wing Span     :  0 Meter\n",
      "Max Weight    :  0 Ton\n",
      "\n",
      "Boeing-737\n",
      "Aircraft Name :  Boeing-737\n",
      "Tail Height   :  200 Meter\n",
      "Wing Span     :  100 Meter\n",
      "Max Weight    :  20 Ton\n",
      "\n",
      "Sukhoi SU-57\n",
      "Aircraft Name :  Sukhoi SU-57\n",
      "Tail Height   :  20 Meter\n",
      "Wing Span     :  100 Meter\n",
      "Max Weight    :  20 Ton\n"
     ]
    }
   ],
   "source": [
    "#Polymorphysm\n",
    "\n",
    "Airplane = ff.Aircraft()\n",
    "print(Airplane.AircraftName)\n",
    "Airplane.display_info()\n",
    "print()\n",
    "Airplane2 = ff.A1()\n",
    "print(Airplane2.AircraftName)\n",
    "Airplane2.display_info()\n",
    "print()\n",
    "Airplane3 = ff.A2()\n",
    "print(Airplane3.AircraftName)\n",
    "Airplane3.display_info()"
   ]
  }
 ],
 "metadata": {
  "kernelspec": {
   "display_name": "Python 3 (ipykernel)",
   "language": "python",
   "name": "python3"
  },
  "language_info": {
   "codemirror_mode": {
    "name": "ipython",
    "version": 3
   },
   "file_extension": ".py",
   "mimetype": "text/x-python",
   "name": "python",
   "nbconvert_exporter": "python",
   "pygments_lexer": "ipython3",
   "version": "3.9.7"
  }
 },
 "nbformat": 4,
 "nbformat_minor": 5
}
