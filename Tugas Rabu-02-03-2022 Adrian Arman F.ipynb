{
 "cells": [
  {
   "cell_type": "markdown",
   "id": "9ef63b97",
   "metadata": {},
   "source": [
    "## Morgentliche Sitzung 8 - 11 AM"
   ]
  },
  {
   "cell_type": "markdown",
   "id": "c39c8053",
   "metadata": {},
   "source": [
    "No 1.\n",
    "a = False\n",
    "b = True\n",
    "c = False\n",
    "1. (b and c) = false\n",
    "2. b or c = True\n",
    "3. not a and b = True\n",
    "4. (a and b) or not c = True\n",
    "5. not b and not (a or c) = False\n"
   ]
  },
  {
   "cell_type": "code",
   "execution_count": 5,
   "id": "e3ca8f87",
   "metadata": {},
   "outputs": [
    {
     "name": "stdout",
     "output_type": "stream",
     "text": [
      "Hello!\n",
      "Enter something : yanto\n",
      "You entered : yanto\n"
     ]
    }
   ],
   "source": [
    "#No 2.\n",
    "print(\"Hello!\")\n",
    "something = input('Enter something : ')\n",
    "print(\"You entered :\", something)"
   ]
  },
  {
   "cell_type": "code",
   "execution_count": 8,
   "id": "6b5e966f",
   "metadata": {},
   "outputs": [
    {
     "name": "stdout",
     "output_type": "stream",
     "text": [
      "Hello !\n",
      "Enter something: hello\n",
      "Hello for you too!\n"
     ]
    }
   ],
   "source": [
    "#No 3.\n",
    "print('Hello !')\n",
    "something = input(\"Enter something: \")\n",
    "if something == 'hello':\n",
    "    print(\"Hello for you too!\")\n",
    "elif something == 'hi':\n",
    "    print('Hi there !')\n",
    "else :\n",
    "    print(\"I don't know what\", something, \" means.\")"
   ]
  },
  {
   "cell_type": "markdown",
   "id": "eade64c6",
   "metadata": {},
   "source": [
    "#No 4.\n",
    "for i in range(100):\n",
    "    print(\"Hallo Hai\")\n"
   ]
  },
  {
   "cell_type": "markdown",
   "id": "fab3e7af",
   "metadata": {},
   "source": [
    "| Pemain 1 | Pemain 2 | Pemenang |\n",
    "| --- | --- | --- |\n",
    "| batu | gunting | pemain 1 |\n",
    "| batu | kertas | pemain 2 |\n",
    "| batu | batu | seri |\n",
    "| gunting | batu | pemain 2 |\n",
    "| gunting | kertas | pemain 1 |\n",
    "| gunting | gunting | seri |\n",
    "| kertas | gunting | pemain 2 |\n",
    "| kertas | batu | pemain 1 |\n",
    "| kertas | kertas | seri |"
   ]
  },
  {
   "cell_type": "code",
   "execution_count": 19,
   "id": "1fb7455a",
   "metadata": {},
   "outputs": [
    {
     "name": "stdout",
     "output_type": "stream",
     "text": [
      "Player 1 : gunting\n",
      "Player 2 : batu\n",
      "Player 2 win !\n",
      "Player 1 : gunting\n",
      "Player 2 : kertas\n",
      "Player 1 win !\n",
      "Player 1 : batu\n",
      "Player 2 : gunting\n",
      "Player 1 win !\n",
      "Player 1 : batu\n",
      "Player 2 : kertas\n",
      "Player 2 win !\n",
      "Player 1 : kertas\n",
      "Player 2 : batu\n",
      "Player 1 win !\n",
      "Player 1 : kertas\n",
      "Player 2 : gunting\n",
      "Player 2 win !\n",
      "Player 1 : kertas\n",
      "Player 2 : kertas\n",
      "Draw !\n",
      "Player 1 : gunting\n",
      "Player 2 : gunting\n",
      "Draw !\n",
      "Player 1 : batu \n",
      "Player 2 : batu\n",
      "Draw !\n",
      "Player 1 : Adrian Arman\n",
      "Player 2 : Yanto\n",
      "Mismatch Input , program stopped working !\n"
     ]
    }
   ],
   "source": [
    "player1 = input(\"Player 1 : \")\n",
    "player2 = input(\"Player 2 : \")\n",
    "while(player1 == \"gunting\" or player1 == \"batu\" or player1 == \"kertas\" or player2 == \"gunting\" or player2 == \"batu\" or player2 == \"kertas\"):\n",
    "    if(player1[0] == \"g\" and player2[0] == \"b\"):\n",
    "        print(\"Player 2 win !\")\n",
    "    elif(player1[0] == \"g\" and player2[0] == \"k\"):\n",
    "        print(\"Player 1 win !\")\n",
    "    elif(player1[0] == \"b\" and player2[0] == \"g\"):\n",
    "        print(\"Player 1 win !\")\n",
    "    elif(player1[0] == \"b\" and player2[0] == \"k\"):\n",
    "        print(\"Player 2 win !\")\n",
    "    elif(player1[0] == \"k\" and player2[0] == \"b\"):\n",
    "        print(\"Player 1 win !\")\n",
    "    elif(player1[0] == \"k\" and player2[0] == \"g\"):\n",
    "        print(\"Player 2 win !\")\n",
    "    else:\n",
    "        print(\"Draw !\")\n",
    "    \n",
    "    player1 = input(\"Player 1 : \")\n",
    "    player2 = input(\"Player 2 : \")\n",
    "        \n",
    "print(\"Mismatch Input , program stopped working !\")"
   ]
  },
  {
   "cell_type": "code",
   "execution_count": 21,
   "id": "9798839a",
   "metadata": {},
   "outputs": [
    {
     "name": "stdout",
     "output_type": "stream",
     "text": [
      "Input something : 1\n",
      "Program execute!\n",
      "Input something : 2\n",
      "Program execute!\n",
      "Input something : yanto\n",
      "Program execute!\n",
      "Input something : berhenti\n",
      "Program stopped working !!!\n"
     ]
    }
   ],
   "source": [
    "#No 6.\n",
    "x = input(\"Input something : \")\n",
    "while(x != \"berhenti\"):\n",
    "    print(\"Program execute!\")\n",
    "    x = input(\"Input something : \")\n",
    "print(\"Program stopped working !!!\")"
   ]
  },
  {
   "cell_type": "code",
   "execution_count": 18,
   "id": "59356cf0",
   "metadata": {},
   "outputs": [
    {
     "name": "stdout",
     "output_type": "stream",
     "text": [
      "MENU JAJANAN PASAR\n",
      "\n",
      "1. Donat     ->   Rp1.000.000-,\n",
      "2. Bakwan    ->   Rp.2.000.000-,\n",
      "3. Onde-onde ->   Rp.100.000-,\n",
      "Input user : 1\n",
      "Kamu memesan Donat dengan harga Rp1.000.000, terimakasih sudah berbelanja!\n",
      "MENU JAJANAN PASAR\n",
      "\n",
      "1. Donat     ->   Rp1.000.000-,\n",
      "2. Bakwan    ->   Rp.2.000.000-,\n",
      "3. Onde-onde ->   Rp.100.000-,\n",
      "Input user : 2\n",
      "Kamu memesan Bakwan dengan harga Rp2.000.000, terimakasih sudah berbelanja!\n",
      "MENU JAJANAN PASAR\n",
      "\n",
      "1. Donat     ->   Rp1.000.000-,\n",
      "2. Bakwan    ->   Rp.2.000.000-,\n",
      "3. Onde-onde ->   Rp.100.000-,\n",
      "Input user : 3\n",
      "Kamu memesan Onde-onde dengan harga Rp100.000, terimakasih sudah berbelanja!\n",
      "MENU JAJANAN PASAR\n",
      "\n",
      "1. Donat     ->   Rp1.000.000-,\n",
      "2. Bakwan    ->   Rp.2.000.000-,\n",
      "3. Onde-onde ->   Rp.100.000-,\n",
      "Input user : 5\n",
      "Wrong input\n",
      "MENU JAJANAN PASAR\n",
      "\n",
      "1. Donat     ->   Rp1.000.000-,\n",
      "2. Bakwan    ->   Rp.2.000.000-,\n",
      "3. Onde-onde ->   Rp.100.000-,\n",
      "Input user : cukup\n",
      "Wrong input\n",
      "Terimakasih sudah berbelanja jajanan di pasar kami\n"
     ]
    }
   ],
   "source": [
    "#No 7.\n",
    "s = \"n\"\n",
    "while(s != \"cukup\"):\n",
    "    print(\"menu jajanan pasar\".upper())\n",
    "    print()\n",
    "    print(\"1. Donat     ->   Rp1.000.000-,\")\n",
    "    print(\"2. Bakwan    ->   Rp.2.000.000-,\")\n",
    "    print(\"3. Onde-onde ->   Rp.100.000-,\")\n",
    "    s = input(\"Input user : \")\n",
    "    if s == '1':\n",
    "        print(\"Kamu memesan Donat dengan harga Rp1.000.000, terimakasih sudah berbelanja!\")\n",
    "    elif s == '2':\n",
    "        print(\"Kamu memesan Bakwan dengan harga Rp2.000.000, terimakasih sudah berbelanja!\")\n",
    "    elif s == '3':\n",
    "        print(\"Kamu memesan Onde-onde dengan harga Rp100.000, terimakasih sudah berbelanja!\")\n",
    "    else:\n",
    "        print(\"Wrong input\")\n",
    "        \n",
    "print(\"Terimakasih sudah berbelanja jajanan di pasar kami\")"
   ]
  },
  {
   "cell_type": "code",
   "execution_count": 19,
   "id": "0241b97b",
   "metadata": {},
   "outputs": [
    {
     "name": "stdout",
     "output_type": "stream",
     "text": [
      "MENU JAJANAN PASAR\n",
      "\n",
      "1. Donat     ->   Rp1.000.000-,\n",
      "2. Bakwan    ->   Rp.2.000.000-,\n",
      "3. Onde-onde ->   Rp.100.000-,\n",
      "Select number  : 1\n",
      "Order quantity : 10\n",
      "Kamu memesan 10  Donat dengan harga Rp1.000.000\n",
      "Total pembayaran adalah : Rp. 10000000\n",
      "terimakasih sudah berbelanja! :\n",
      "MENU JAJANAN PASAR\n",
      "\n",
      "1. Donat     ->   Rp1.000.000-,\n",
      "2. Bakwan    ->   Rp.2.000.000-,\n",
      "3. Onde-onde ->   Rp.100.000-,\n",
      "Select number  : 2\n",
      "Order quantity : 10\n",
      "Kamu memesan 10  Bakwan dengan harga Rp2.000.000\n",
      "Total pembayaran adalah : Rp. 20000000\n",
      "terimakasih sudah berbelanja! :\n",
      "MENU JAJANAN PASAR\n",
      "\n",
      "1. Donat     ->   Rp1.000.000-,\n",
      "2. Bakwan    ->   Rp.2.000.000-,\n",
      "3. Onde-onde ->   Rp.100.000-,\n",
      "Select number  : 2\n",
      "Order quantity : 1000\n",
      "Kamu memesan 1000  Bakwan dengan harga Rp2.000.000\n",
      "Total pembayaran adalah : Rp. 2000000000\n",
      "terimakasih sudah berbelanja! :\n",
      "MENU JAJANAN PASAR\n",
      "\n",
      "1. Donat     ->   Rp1.000.000-,\n",
      "2. Bakwan    ->   Rp.2.000.000-,\n",
      "3. Onde-onde ->   Rp.100.000-,\n",
      "Select number  : 3\n",
      "Order quantity : 1\n",
      "Kamu memesan 1  Onde-onde dengan harga Rp100.000\n",
      "Total pembayaran adalah : Rp. 100000\n",
      "terimakasih sudah berbelanja! :\n",
      "MENU JAJANAN PASAR\n",
      "\n",
      "1. Donat     ->   Rp1.000.000-,\n",
      "2. Bakwan    ->   Rp.2.000.000-,\n",
      "3. Onde-onde ->   Rp.100.000-,\n",
      "Select number  : cukup\n",
      "Order quantity : 0\n",
      "Wrong input\n",
      "Terimakasih sudah berbelanja jajanan di pasar kami\n"
     ]
    }
   ],
   "source": [
    "#No 8.\n",
    "s = \"n\"\n",
    "while(s != \"cukup\"):\n",
    "    print(\"menu jajanan pasar\".upper())\n",
    "    print()\n",
    "    print(\"1. Donat     ->   Rp1.000.000-,\")\n",
    "    print(\"2. Bakwan    ->   Rp.2.000.000-,\")\n",
    "    print(\"3. Onde-onde ->   Rp.100.000-,\")\n",
    "    s = input(\"Select number  : \")\n",
    "    x = input(\"Order quantity : \")\n",
    "    if s == '1':\n",
    "        print(\"Kamu memesan\",  int(x),\" Donat dengan harga Rp1.000.000\")\n",
    "        print(\"Total pembayaran adalah : Rp.\",int(x)*1000000)\n",
    "        print(\"terimakasih sudah berbelanja! :\")\n",
    "    elif s == '2':\n",
    "        print(\"Kamu memesan\",  int(x),\" Bakwan dengan harga Rp2.000.000\")\n",
    "        print(\"Total pembayaran adalah : Rp.\",int(x)*2000000)\n",
    "        print(\"terimakasih sudah berbelanja! :\")\n",
    "    elif s == '3':\n",
    "        print(\"Kamu memesan\",  int(x),\" Onde-onde dengan harga Rp100.000\")\n",
    "        print(\"Total pembayaran adalah : Rp.\",int(x)*100000)\n",
    "        print(\"terimakasih sudah berbelanja! :\")\n",
    "    else:\n",
    "        print(\"Wrong input\")\n",
    "        \n",
    "print(\"Terimakasih sudah berbelanja jajanan di pasar kami\")"
   ]
  },
  {
   "cell_type": "markdown",
   "id": "9aeddbb5",
   "metadata": {},
   "source": [
    "## Nachmittagssitzung"
   ]
  },
  {
   "cell_type": "code",
   "execution_count": 24,
   "id": "a0e4c9f8",
   "metadata": {},
   "outputs": [
    {
     "name": "stdout",
     "output_type": "stream",
     "text": [
      "Input m : 4\n",
      "Input n : 3\n",
      "m not divisible by n\n"
     ]
    }
   ],
   "source": [
    "#No 1.\n",
    "def isDivisible(m,n):\n",
    "    if(m%n == 0):\n",
    "        return True\n",
    "    else:\n",
    "        return False\n",
    "x = input(\"Input m : \")\n",
    "y = input(\"Input n : \")\n",
    "if(isDivisible(int(x),int(y))):\n",
    "    print(\"m divisible by n\")\n",
    "else:\n",
    "    print(\"m not divisible by n\")"
   ]
  },
  {
   "cell_type": "code",
   "execution_count": 28,
   "id": "e5ecea9e",
   "metadata": {},
   "outputs": [
    {
     "name": "stdout",
     "output_type": "stream",
     "text": [
      "1. Soup and salad\n",
      "2. Pasta with meat sauce\n",
      "3. Chef's special\n",
      "Which number would you like to order? : 4\n",
      "Sorry, that is not a valid choice.\n"
     ]
    }
   ],
   "source": [
    "#No 2.\n",
    "def menu():\n",
    "    print(\"1. Soup and salad\")\n",
    "    print(\"2. Pasta with meat sauce\")\n",
    "    print(\"3. Chef's special\")\n",
    "    x = input(\"Which number would you like to order? : \")\n",
    "    if(int(x) == 1):\n",
    "        print(\"One Soup and salad coming right up!\")\n",
    "    elif(int(x) == 2):\n",
    "        print(\"One Pasta with meat sauce coming right up!\")\n",
    "    elif(int(x) == 3):\n",
    "        print(\"One Chef's specia coming right up!\")\n",
    "    else :\n",
    "        print(\"Sorry, that is not a valid choice.\")\n",
    "menu()"
   ]
  },
  {
   "cell_type": "code",
   "execution_count": 35,
   "id": "f5d5f0f4",
   "metadata": {},
   "outputs": [
    {
     "name": "stdout",
     "output_type": "stream",
     "text": [
      "Some random integer between 0 - 100 are divisible by 3\n"
     ]
    }
   ],
   "source": [
    "#No 3.\n",
    "import random as r\n",
    "def rand_divis_3():\n",
    "    if(r.randint(0,100) % 3 == 0):\n",
    "        return True\n",
    "    else:\n",
    "        return False\n",
    "if(rand_divis_3()):\n",
    "    print(\"Some random integer between 0 - 100 are divisible by 3\")\n",
    "else :\n",
    "    print(\"Some random integer between 0 - 100 are not divisible by 3\")"
   ]
  },
  {
   "cell_type": "code",
   "execution_count": 41,
   "id": "0ba2e6bc",
   "metadata": {},
   "outputs": [
    {
     "name": "stdout",
     "output_type": "stream",
     "text": [
      "Input a : 3\n",
      "Input b : 3\n",
      "a equal b\n"
     ]
    }
   ],
   "source": [
    "#No 4.\n",
    "def isNot(x,y):\n",
    "    if(x == y):\n",
    "        return False\n",
    "    else :\n",
    "        return True\n",
    "a = input(\"Input a : \")\n",
    "b = input(\"Input b : \")\n",
    "if(isNot(a,b)):\n",
    "    print(\"a is not b\")\n",
    "else:\n",
    "    print(\"a equal b\")"
   ]
  },
  {
   "cell_type": "code",
   "execution_count": 42,
   "id": "421ff582",
   "metadata": {},
   "outputs": [
    {
     "name": "stdout",
     "output_type": "stream",
     "text": [
      "Enter your name : maman\n",
      "Your name is maman\n"
     ]
    }
   ],
   "source": [
    "#No 5.\n",
    "def ask_name():\n",
    "    name = input(\"Enter your name : \")\n",
    "    return name\n",
    "print(\"Your name is\", ask_name())"
   ]
  },
  {
   "cell_type": "code",
   "execution_count": 53,
   "id": "f9d6bc64",
   "metadata": {},
   "outputs": [
    {
     "name": "stdout",
     "output_type": "stream",
     "text": [
      "Elemen :  9\n",
      "Elemen :  1 yanto\n"
     ]
    }
   ],
   "source": [
    "def kwargs(**dictionary):\n",
    "    print(\"Elemen : \", dictionary['mamat'])\n",
    "kwargs(mamat = 9, yayan = 10)\n",
    "\n",
    "def args(*arg):\n",
    "    print(\"Elemen : \", arg[0], arg[4])\n",
    "args(1,2,3,4,\"yanto\")\n",
    "\n",
    "def function_nganggur():\n",
    "    pass\n",
    "function_nganggur()        "
   ]
  },
  {
   "cell_type": "code",
   "execution_count": 69,
   "id": "5c090790",
   "metadata": {},
   "outputs": [
    {
     "name": "stdout",
     "output_type": "stream",
     "text": [
      "Input : 10\n",
      "Stopped\n"
     ]
    }
   ],
   "source": [
    "def Recursive(x):\n",
    "    if(int(x) != 0):\n",
    "        y = int(x) % r.randint(0,10)\n",
    "        Recursive(y)\n",
    "    else:\n",
    "        print(\"Stopped\")\n",
    "t = input(\"Input : \")\n",
    "Recursive(t)"
   ]
  },
  {
   "cell_type": "code",
   "execution_count": null,
   "id": "5109c93b",
   "metadata": {},
   "outputs": [],
   "source": []
  }
 ],
 "metadata": {
  "kernelspec": {
   "display_name": "Python 3 (ipykernel)",
   "language": "python",
   "name": "python3"
  },
  "language_info": {
   "codemirror_mode": {
    "name": "ipython",
    "version": 3
   },
   "file_extension": ".py",
   "mimetype": "text/x-python",
   "name": "python",
   "nbconvert_exporter": "python",
   "pygments_lexer": "ipython3",
   "version": "3.9.7"
  }
 },
 "nbformat": 4,
 "nbformat_minor": 5
}
