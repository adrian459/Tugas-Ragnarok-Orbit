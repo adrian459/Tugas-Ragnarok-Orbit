{
 "cells": [
  {
   "cell_type": "markdown",
   "id": "81e97844",
   "metadata": {},
   "source": [
    "## Numpy and Scipy for Basic Statistics"
   ]
  },
  {
   "cell_type": "code",
   "execution_count": 48,
   "id": "c9360c11",
   "metadata": {},
   "outputs": [],
   "source": [
    "import numpy as np\n",
    "from scipy import stats, mean, median\n",
    "import math"
   ]
  },
  {
   "cell_type": "code",
   "execution_count": 44,
   "id": "6c53ae87",
   "metadata": {},
   "outputs": [
    {
     "name": "stdout",
     "output_type": "stream",
     "text": [
      "[ 0.89399666  1.         -0.42070095  1.17520119] \n",
      "\n",
      "Mean :  0.6621242250655456\n",
      "Mean :  0.6621242250655456 \n",
      "\n",
      "[[1.         3.         4.        ]\n",
      " [1.         6.         6.63      ]\n",
      " [3.14159265 3.         5.        ]\n",
      " [3.         5.         7.        ]] \n",
      "\n",
      "Mean Axis-0:  [2.03539816 4.25       5.6575    ] \n",
      "\n",
      "Mean Axis-1:  [2.66666667 4.54333333 3.71386422 5.        ]\n"
     ]
    },
    {
     "name": "stderr",
     "output_type": "stream",
     "text": [
      "C:\\Users\\asus\\AppData\\Local\\Temp/ipykernel_16708/2047619474.py:6: DeprecationWarning: scipy.mean is deprecated and will be removed in SciPy 2.0.0, use numpy.mean instead\n",
      "  print(\"Mean : \", mean(A, axis = 0), \"\\n\")\n",
      "C:\\Users\\asus\\AppData\\Local\\Temp/ipykernel_16708/2047619474.py:9: DeprecationWarning: scipy.mean is deprecated and will be removed in SciPy 2.0.0, use numpy.mean instead\n",
      "  print(\"Mean Axis-0: \", mean(B, axis = 0), \"\\n\") #Average per column\n",
      "C:\\Users\\asus\\AppData\\Local\\Temp/ipykernel_16708/2047619474.py:10: DeprecationWarning: scipy.mean is deprecated and will be removed in SciPy 2.0.0, use numpy.mean instead\n",
      "  print(\"Mean Axis-1: \", mean(B, axis = 1))#Average per row\n"
     ]
    }
   ],
   "source": [
    "#Measure of Central Tendency \n",
    "#Mean\n",
    "A = np.array([math.sin(90), math.ceil(math.cos(45)), math.tan(75), math.sinh(math.tanh(10))]) \n",
    "print(A, \"\\n\")\n",
    "print(\"Mean : \", np.mean(A))\n",
    "print(\"Mean : \", mean(A, axis = 0), \"\\n\")\n",
    "B = np.array([[1,3,4], [math.tanh(89),6,6.63], [math.pi, 3, 5], [3,5,7]])\n",
    "print(B, \"\\n\")\n",
    "print(\"Mean Axis-0: \", mean(B, axis = 0), \"\\n\") #Average per column\n",
    "print(\"Mean Axis-1: \", mean(B, axis = 1))#Average per row\n",
    "#mean(B, axis = 1)[0] = 2.6"
   ]
  },
  {
   "cell_type": "code",
   "execution_count": 53,
   "id": "50379b68",
   "metadata": {},
   "outputs": [
    {
     "name": "stdout",
     "output_type": "stream",
     "text": [
      "[ 0.89399666  1.         -0.42070095  1.17520119] \n",
      "\n",
      "Median A :  0.9469983318002789\n",
      "Median A :  0.9469983318002789 \n",
      "\n",
      "[[1.         3.         4.        ]\n",
      " [1.         6.         6.63      ]\n",
      " [3.14159265 3.         5.        ]\n",
      " [3.         5.         7.        ]] \n",
      "\n",
      "Median B :  [2.    4.    5.815]\n",
      "Median B :  [3.         6.         3.14159265 5.        ]\n"
     ]
    },
    {
     "name": "stderr",
     "output_type": "stream",
     "text": [
      "C:\\Users\\asus\\AppData\\Local\\Temp/ipykernel_16708/169246630.py:4: DeprecationWarning: scipy.median is deprecated and will be removed in SciPy 2.0.0, use numpy.median instead\n",
      "  print(\"Median A : \", median(A, axis = 0), \"\\n\")\n",
      "C:\\Users\\asus\\AppData\\Local\\Temp/ipykernel_16708/169246630.py:7: DeprecationWarning: scipy.median is deprecated and will be removed in SciPy 2.0.0, use numpy.median instead\n",
      "  print(\"Median B : \", median(B, axis = 1))\n"
     ]
    }
   ],
   "source": [
    "#Median \n",
    "print(A, \"\\n\")\n",
    "print(\"Median A : \", np.median(A))\n",
    "print(\"Median A : \", median(A, axis = 0), \"\\n\")\n",
    "print(B, \"\\n\")\n",
    "print(\"Median B : \", np.median(B, axis = 0))\n",
    "print(\"Median B : \", median(B, axis = 1))"
   ]
  },
  {
   "cell_type": "code",
   "execution_count": 61,
   "id": "6c57abfe",
   "metadata": {},
   "outputs": [
    {
     "name": "stdout",
     "output_type": "stream",
     "text": [
      "[ 0.89399666  1.         -0.42070095  1.17520119] \n",
      "\n",
      "Index :  0\n",
      "Mode A:  -0.42070095062112434\n",
      "Mode A:  ModeResult(mode=array([-0.42070095]), count=array([1])) \n",
      "\n",
      "[[1.         3.         4.        ]\n",
      " [1.         6.         6.63      ]\n",
      " [3.14159265 3.         5.        ]\n",
      " [3.         5.         7.        ]] \n",
      "\n",
      "Mode B:  ModeResult(mode=array([[1., 3., 4.]]), count=array([[2, 2, 1]])) \n",
      "\n",
      "Mode B:  ModeResult(mode=array([[1.],\n",
      "       [1.],\n",
      "       [3.],\n",
      "       [3.]]), count=array([[1],\n",
      "       [1],\n",
      "       [1],\n",
      "       [1]]))\n"
     ]
    }
   ],
   "source": [
    "#Mode\n",
    "print(A, \"\\n\")\n",
    "Arr, Frek = np.unique(A, return_counts = True)\n",
    "Arr, Frek\n",
    "idx = np.argmax(Frek)\n",
    "print(\"Index : \", idx)\n",
    "print(\"Mode A: \", Arr[idx])\n",
    "print(\"Mode A: \", stats.mode(A), \"\\n\")\n",
    "\n",
    "print(B, \"\\n\")\n",
    "print(\"Mode B: \", stats.mode(B, axis = 0), \"\\n\")\n",
    "print(\"Mode B: \", stats.mode(B, axis = 1))"
   ]
  },
  {
   "cell_type": "code",
   "execution_count": 70,
   "id": "5c624594",
   "metadata": {},
   "outputs": [
    {
     "name": "stdout",
     "output_type": "stream",
     "text": [
      "[ 0.89399666  1.         -0.42070095  1.17520119] \n",
      "\n",
      "Range A :  1.5959021379038731 \n",
      "\n",
      "[[1.         3.         4.        ]\n",
      " [1.         6.         6.63      ]\n",
      " [3.14159265 3.         5.        ]\n",
      " [3.         5.         7.        ]] \n",
      "\n",
      "Range B :  6.0 \n",
      "\n"
     ]
    }
   ],
   "source": [
    "#Measures of Spread\n",
    "#Range = Max - Min\n",
    "print(A, \"\\n\")\n",
    "print(\"Range A : \", A.max()-A.min(), \"\\n\")\n",
    "print(B, \"\\n\")\n",
    "print(\"Range B : \", B.max()-B.min(), \"\\n\")"
   ]
  },
  {
   "cell_type": "code",
   "execution_count": 73,
   "id": "b393e03a",
   "metadata": {},
   "outputs": [
    {
     "name": "stdout",
     "output_type": "stream",
     "text": [
      "[ 0.89399666  1.         -0.42070095  1.17520119] \n",
      "\n",
      "\n",
      "Quartile 1: 0.23664785648971676\n",
      "Quartile 2: 0.9469983318002789\n",
      "Quartile 3: 1.0876005936413744\n",
      "\n",
      "Interquartile Range 0.8509527371516576 \n",
      "\n",
      "[[1.         3.         4.        ]\n",
      " [1.         6.         6.63      ]\n",
      " [3.14159265 3.         5.        ]\n",
      " [3.         5.         7.        ]] \n",
      "\n",
      "\n",
      "Quartile 1: 3.0\n",
      "Quartile 2: 3.5707963267948966\n",
      "Quartile 3: 5.5\n",
      "\n",
      "Interquartile Range 2.5\n"
     ]
    },
    {
     "name": "stderr",
     "output_type": "stream",
     "text": [
      "C:\\Users\\asus\\AppData\\Local\\Temp/ipykernel_16708/4194753207.py:4: DeprecationWarning: the `interpolation=` argument to quantile was renamed to `method=`, which has additional options.\n",
      "Users of the modes 'nearest', 'lower', 'higher', or 'midpoint' are encouraged to review the method they. (Deprecated NumPy 1.22)\n",
      "  Q1 = np.quantile(A, .25, interpolation = 'midpoint')\n",
      "C:\\Users\\asus\\AppData\\Local\\Temp/ipykernel_16708/4194753207.py:8: DeprecationWarning: the `interpolation=` argument to quantile was renamed to `method=`, which has additional options.\n",
      "Users of the modes 'nearest', 'lower', 'higher', or 'midpoint' are encouraged to review the method they. (Deprecated NumPy 1.22)\n",
      "  Q2 = np.quantile(A, .50, interpolation = 'midpoint')\n",
      "C:\\Users\\asus\\AppData\\Local\\Temp/ipykernel_16708/4194753207.py:12: DeprecationWarning: the `interpolation=` argument to quantile was renamed to `method=`, which has additional options.\n",
      "Users of the modes 'nearest', 'lower', 'higher', or 'midpoint' are encouraged to review the method they. (Deprecated NumPy 1.22)\n",
      "  Q3 = np.quantile(A, .75, interpolation = 'midpoint')\n",
      "C:\\Users\\asus\\AppData\\Local\\Temp/ipykernel_16708/4194753207.py:21: DeprecationWarning: the `interpolation=` argument to quantile was renamed to `method=`, which has additional options.\n",
      "Users of the modes 'nearest', 'lower', 'higher', or 'midpoint' are encouraged to review the method they. (Deprecated NumPy 1.22)\n",
      "  Q1 = np.quantile(B, .25, interpolation = 'midpoint')\n",
      "C:\\Users\\asus\\AppData\\Local\\Temp/ipykernel_16708/4194753207.py:25: DeprecationWarning: the `interpolation=` argument to quantile was renamed to `method=`, which has additional options.\n",
      "Users of the modes 'nearest', 'lower', 'higher', or 'midpoint' are encouraged to review the method they. (Deprecated NumPy 1.22)\n",
      "  Q2 = np.quantile(B, .50, interpolation = 'midpoint')\n",
      "C:\\Users\\asus\\AppData\\Local\\Temp/ipykernel_16708/4194753207.py:29: DeprecationWarning: the `interpolation=` argument to quantile was renamed to `method=`, which has additional options.\n",
      "Users of the modes 'nearest', 'lower', 'higher', or 'midpoint' are encouraged to review the method they. (Deprecated NumPy 1.22)\n",
      "  Q3 = np.quantile(B, .75, interpolation = 'midpoint')\n"
     ]
    }
   ],
   "source": [
    "#Quartile\n",
    "print(A, \"\\n\")\n",
    "# First quartile (Q1)\n",
    "Q1 = np.quantile(A, .25, interpolation = 'midpoint')\n",
    "print(\"\\nQuartile 1:\",Q1)\n",
    " \n",
    "# Second quartile (Q2)\n",
    "Q2 = np.quantile(A, .50, interpolation = 'midpoint')\n",
    "print(\"Quartile 2:\",Q2)\n",
    "\n",
    "# Third quartile (Q3)\n",
    "Q3 = np.quantile(A, .75, interpolation = 'midpoint')\n",
    "print(\"Quartile 3:\",Q3)\n",
    "\n",
    "# Interquaritle range (IQR)\n",
    "IQR = Q3 - Q1\n",
    "print(\"\\nInterquartile Range\",IQR, \"\\n\")\n",
    "\n",
    "print(B, \"\\n\")\n",
    "# First quartile (Q1)\n",
    "Q1 = np.quantile(B, .25, interpolation = 'midpoint')\n",
    "print(\"\\nQuartile 1:\",Q1)\n",
    " \n",
    "# Second quartile (Q2)\n",
    "Q2 = np.quantile(B, .50, interpolation = 'midpoint')\n",
    "print(\"Quartile 2:\",Q2)\n",
    "\n",
    "# Third quartile (Q3)\n",
    "Q3 = np.quantile(B, .75, interpolation = 'midpoint')\n",
    "print(\"Quartile 3:\",Q3)\n",
    "\n",
    "# Interquaritle range (IQR)\n",
    "IQR = Q3 - Q1\n",
    "print(\"\\nInterquartile Range\",IQR)"
   ]
  },
  {
   "cell_type": "code",
   "execution_count": 76,
   "id": "0479677c",
   "metadata": {},
   "outputs": [
    {
     "name": "stdout",
     "output_type": "stream",
     "text": [
      "[ 0.89399666  1.         -0.42070095  1.17520119] \n",
      "\n",
      "Percentile-35th :  0.89929683042053 \n",
      "\n",
      "[[1.         3.         4.        ]\n",
      " [1.         6.         6.63      ]\n",
      " [3.14159265 3.         5.        ]\n",
      " [3.         5.         7.        ]] \n",
      "\n",
      "Percentile-35th :  3.0 \n",
      "\n"
     ]
    }
   ],
   "source": [
    "#Percentile\n",
    "print(A, \"\\n\")\n",
    "print(\"Percentile-35th : \",np.percentile(A, 35), \"\\n\")\n",
    "print(B, \"\\n\")\n",
    "print(\"Percentile-35th : \",np.percentile(B, 35), \"\\n\")"
   ]
  }
 ],
 "metadata": {
  "kernelspec": {
   "display_name": "Python 3 (ipykernel)",
   "language": "python",
   "name": "python3"
  },
  "language_info": {
   "codemirror_mode": {
    "name": "ipython",
    "version": 3
   },
   "file_extension": ".py",
   "mimetype": "text/x-python",
   "name": "python",
   "nbconvert_exporter": "python",
   "pygments_lexer": "ipython3",
   "version": "3.9.7"
  }
 },
 "nbformat": 4,
 "nbformat_minor": 5
}
